{
 "cells": [
  {
   "cell_type": "code",
   "execution_count": 1,
   "id": "5a1247d3-0fe8-4ca4-90cd-9bb7b7bf3541",
   "metadata": {},
   "outputs": [],
   "source": [
    "# Use conda/analysis3-24.07 env\n",
    "from polar_convert.constants import SOUTH\n",
    "import netCDF4 as nc\n",
    "import numpy as np"
   ]
  },
  {
   "cell_type": "code",
   "execution_count": 2,
   "id": "ef89c339-b868-4d9f-b1de-d6aec88da941",
   "metadata": {},
   "outputs": [],
   "source": [
    "from polar_convert import polar_xy_to_lonlat"
   ]
  },
  {
   "cell_type": "code",
   "execution_count": 3,
   "id": "c10ca493-41a8-4b8c-add1-800083b8c5b3",
   "metadata": {},
   "outputs": [],
   "source": [
    "true_scale_lat = -70  # true-scale latitude in degrees\n",
    "re = 6378.137  # earth radius in km\n",
    "e = 0.01671 # earth eccentricity\n",
    "hemisphere = 'south'"
   ]
  },
  {
   "cell_type": "code",
   "execution_count": 4,
   "id": "a0be9e9d-5424-49f5-939a-a9a1eba847e6",
   "metadata": {
    "scrolled": true
   },
   "outputs": [],
   "source": [
    "# Open the NetCDF file\n",
    "dataset = nc.Dataset('/g/data/tm70/ek4684/Bedmachine_data/BedMachineAntarctica_2020-07-15_v02.nc', 'r')\n",
    "# Extract the latitude and longitude arrays\n",
    "y = dataset.variables['y'][:]/100.0  # X array (Convert meters to KMs)\n",
    "x = dataset.variables['x'][:]/100.0  # Y array (Convert meters to KMs)\n",
    "# Create 2D coordinate grids\n",
    "X, Y = np.meshgrid(x, y)"
   ]
  },
  {
   "cell_type": "code",
   "execution_count": 5,
   "id": "55f54807-cacc-4fc8-bbc0-9ca44879edba",
   "metadata": {},
   "outputs": [],
   "source": [
    "# Initialize lists to store new latitudes and longitudes\n",
    "# Initialize 2D arrays for new latitudes and longitudes\n",
    "new_longitudes = np.zeros_like(X)\n",
    "new_latitudes = np.zeros_like(Y)\n",
    "\n",
    "# Loop through all (i, j) combinations\n",
    "for i in range(x.shape[0]):\n",
    "    for j in range(x.shape[0]):\n",
    "        lon_result, lat_result = polar_xy_to_lonlat(X[i, j], Y[i, j], true_scale_lat, re, e, hemisphere)\n",
    "        lon_result = (lon_result + 180) % 360 - 180  # Ensure longitude is in [-180, 180]\n",
    "        \n",
    "        new_longitudes[i, j] = lon_result\n",
    "        new_latitudes[i, j] = lat_result"
   ]
  },
  {
   "cell_type": "code",
   "execution_count": null,
   "id": "a8421fd2-3ac6-434f-996d-6fcd940650d6",
   "metadata": {},
   "outputs": [],
   "source": [
    "# # Initialize lists to store new latitudes and longitudes\n",
    "# # Initialize 2D arrays for new latitudes and longitudes\n",
    "# new_longitudes = np.zeros_like(X)\n",
    "# new_latitudes = np.zeros_like(Y)\n",
    "\n",
    "# # Vectorize the function to apply on entire arrays at once\n",
    "# vectorized_polar_xy_to_lonlat = np.vectorize(polar_xy_to_lonlat)\n",
    "\n",
    "# # Apply the function to all elements of X and Y at once\n",
    "# lon_results, lat_results = vectorized_polar_xy_to_lonlat(X, Y, true_scale_lat, re, e, hemisphere)\n",
    "\n",
    "# # Ensure longitude is in [-180, 180]\n",
    "# lon_results = (lon_results + 180) % 360 - 180  \n",
    "\n",
    "# # Store the results\n",
    "# new_longitudes = lon_results\n",
    "# new_latitudes = lat_results"
   ]
  },
  {
   "cell_type": "code",
   "execution_count": null,
   "id": "7d2931c7-78b9-4146-9fe4-2262efcf9818",
   "metadata": {},
   "outputs": [],
   "source": [
    "lon_result"
   ]
  },
  {
   "cell_type": "code",
   "execution_count": null,
   "id": "6dc8716c-c752-4ebe-9f7f-2891d7eae2f0",
   "metadata": {},
   "outputs": [],
   "source": [
    "# Define new file path\n",
    "new_file_path = '/g/data/tm70/ek4684/Bedmachine_data/Updated_BedMachineAntarctica_2020-07-15_v02.nc'\n",
    "new_dataset = nc.Dataset(new_file_path, 'w', format='NETCDF4')\n",
    "\n",
    "# Copy dimensions from the original dataset to the new file\n",
    "for name, dimension in dataset.dimensions.items():\n",
    "    new_dataset.createDimension(name, len(dimension) if not dimension.isunlimited() else None)\n",
    "\n",
    "# Copy variables (excluding x and y) from the original dataset to the new file\n",
    "for name, variable in dataset.variables.items():\n",
    "    if name not in ['x', 'y']:  # Exclude 'x' and 'y', as we are replacing them with lat/lon\n",
    "        new_var = new_dataset.createVariable(name, variable.datatype, variable.dimensions)\n",
    "        new_var[:] = variable[:]\n",
    "        # Copy all attributes except the fill value\n",
    "        for attr_name in variable.ncattrs():\n",
    "            if attr_name != '_FillValue':\n",
    "                new_var.setncattr(attr_name, variable.getncattr(attr_name))\n",
    "\n",
    "# Create new lat and lon variables with the correct dimensions\n",
    "lat_var = new_dataset.createVariable('lat', 'f4', ('y', 'x'))  # Latitude (2D)\n",
    "lon_var = new_dataset.createVariable('lon', 'f4', ('y', 'x'))  # Longitude (2D)\n",
    "\n",
    "# Assign the computed latitudes and longitudes to the new variables\n",
    "lat_var[:, :] = new_latitudes  # Ensure latitudes are assigned correctly as 2D\n",
    "lon_var[:, :] = new_longitudes  # Ensure longitudes are assigned correctly as 2D\n",
    "\n",
    "# Set attributes for the new variables\n",
    "lat_var.units = \"degrees_north\"\n",
    "lon_var.units = \"degrees_east\"\n",
    "\n",
    "# Close the new dataset\n",
    "new_dataset.close()\n",
    "\n",
    "# Close the original dataset\n",
    "dataset.close()\n",
    "\n",
    "print(f\"New file saved as: {new_file_path}\")"
   ]
  },
  {
   "cell_type": "code",
   "execution_count": null,
   "id": "6a3e42cc-5780-4515-9476-89df8a41fbc9",
   "metadata": {},
   "outputs": [],
   "source": [
    "print(new_longitudes)"
   ]
  },
  {
   "cell_type": "code",
   "execution_count": null,
   "id": "dec46aa2-0ec7-4e44-8d7c-57c4fe3ae757",
   "metadata": {},
   "outputs": [],
   "source": [
    "dataset = nc.Dataset('/g/data1a/tm70/ek4684/Bedmachine_data/NSIDC0771_LatLon_PS_N6.25km_v1.0.nc', 'r')"
   ]
  },
  {
   "cell_type": "code",
   "execution_count": null,
   "id": "c0bf9304-8852-41ce-9717-8bc5e18dffec",
   "metadata": {},
   "outputs": [],
   "source": [
    "latitude = dataset.variables['latitude'][:,:]\n",
    "longitude = dataset.variables['longitude'][:,:]"
   ]
  },
  {
   "cell_type": "code",
   "execution_count": null,
   "id": "44a83af0-bb2b-4831-a1a0-e730f9eb0726",
   "metadata": {},
   "outputs": [],
   "source": [
    "latitude[-1,:]"
   ]
  },
  {
   "cell_type": "code",
   "execution_count": null,
   "id": "e75a8da9-3be8-4c26-97cb-2d032d857c71",
   "metadata": {},
   "outputs": [],
   "source": []
  }
 ],
 "metadata": {
  "kernelspec": {
   "display_name": "Python (analysis3-24.04)",
   "language": "python",
   "name": "analysis3-24.04"
  },
  "language_info": {
   "codemirror_mode": {
    "name": "ipython",
    "version": 3
   },
   "file_extension": ".py",
   "mimetype": "text/x-python",
   "name": "python",
   "nbconvert_exporter": "python",
   "pygments_lexer": "ipython3",
   "version": "3.10.14"
  }
 },
 "nbformat": 4,
 "nbformat_minor": 5
}
