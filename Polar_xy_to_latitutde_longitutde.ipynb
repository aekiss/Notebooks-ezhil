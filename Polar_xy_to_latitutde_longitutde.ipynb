{
 "cells": [
  {
   "cell_type": "code",
   "execution_count": 37,
   "id": "5a1247d3-0fe8-4ca4-90cd-9bb7b7bf3541",
   "metadata": {},
   "outputs": [],
   "source": [
    "# Use conda/analysis3-24.07 env\n",
    "from polar_convert.constants import SOUTH\n",
    "import netCDF4 as nc\n",
    "import numpy as np"
   ]
  },
  {
   "cell_type": "code",
   "execution_count": 38,
   "id": "ef89c339-b868-4d9f-b1de-d6aec88da941",
   "metadata": {},
   "outputs": [],
   "source": [
    "from polar_convert import polar_xy_to_lonlat"
   ]
  },
  {
   "cell_type": "code",
   "execution_count": 39,
   "id": "c10ca493-41a8-4b8c-add1-800083b8c5b3",
   "metadata": {},
   "outputs": [],
   "source": [
    "true_scale_lat = -70  # true-scale latitude in degrees\n",
    "re = 6378.137  # earth radius in km\n",
    "e = 0.01671 # earth eccentricity\n",
    "hemisphere = 'south'"
   ]
  },
  {
   "cell_type": "code",
   "execution_count": 40,
   "id": "a0be9e9d-5424-49f5-939a-a9a1eba847e6",
   "metadata": {
    "scrolled": true
   },
   "outputs": [],
   "source": [
    "# Open the NetCDF file\n",
    "dataset = nc.Dataset('/g/data/tm70/ek4684/Bedmachine_data/BedMachineAntarctica_2020-07-15_v02.nc', 'r')\n",
    "# Extract the latitude and longitude arrays\n",
    "y = dataset.variables['y'][:]/100.0  # X array (Convert meters to KMs)\n",
    "x = dataset.variables['x'][:]/100.0  # Y array (Convert meters to KMs)"
   ]
  },
  {
   "cell_type": "code",
   "execution_count": 41,
   "id": "55f54807-cacc-4fc8-bbc0-9ca44879edba",
   "metadata": {},
   "outputs": [],
   "source": [
    "# Initialize lists to store new latitudes and longitudes\n",
    "new_latitudes = []\n",
    "new_longitudes = []\n",
    "for i in range(len(x)):\n",
    "    # Call the function\n",
    "    lon_result, lat_result = polar_xy_to_lonlat(x[i], y[i], true_scale_lat, re, e, hemisphere)\n",
    "    lon_result = (lon_result + 180) % 360 - 180\n",
    "    # Append the results to the lists\n",
    "    new_longitudes.append(lon_result)\n",
    "    new_latitudes.append(lat_result)"
   ]
  },
  {
   "cell_type": "code",
   "execution_count": 42,
   "id": "46bafde3-5669-4f8d-b60b-52a71d404496",
   "metadata": {},
   "outputs": [],
   "source": [
    "# Convert the lists to numpy arrays for writing to the new NetCDF file\n",
    "new_latitudes = np.array(new_latitudes)\n",
    "new_longitudes = np.array(new_longitudes)"
   ]
  },
  {
   "cell_type": "code",
   "execution_count": 43,
   "id": "6dc8716c-c752-4ebe-9f7f-2891d7eae2f0",
   "metadata": {},
   "outputs": [
    {
     "name": "stdout",
     "output_type": "stream",
     "text": [
      "New file saved as: /g/data/tm70/ek4684/Bedmachine_data/Updated_BedMachineAntarctica_2020-07-15_v02.nc\n"
     ]
    }
   ],
   "source": [
    "# Create a new NetCDF file to save the updated data\n",
    "new_file_path = '/g/data/tm70/ek4684/Bedmachine_data/Updated_BedMachineAntarctica_2020-07-15_v02.nc'\n",
    "new_dataset = nc.Dataset(new_file_path, 'w', format='NETCDF4')\n",
    "\n",
    "# Copy dimensions from the original dataset to the new file\n",
    "for name, dimension in dataset.dimensions.items():\n",
    "    new_dataset.createDimension(name, len(dimension) if not dimension.isunlimited() else None)\n",
    "\n",
    "# Copy variables (other than the ones being modified) from the original dataset to the new file\n",
    "for name, variable in dataset.variables.items():\n",
    "    if name not in ['x', 'y']:  # Don't copy the x and y variables, we'll create new ones\n",
    "        new_var = new_dataset.createVariable(name, variable.datatype, variable.dimensions)\n",
    "        new_var[:] = variable[:]\n",
    "        # Copy all attributes except the fill value\n",
    "        for attr_name in variable.ncattrs():\n",
    "            if attr_name != '_FillValue':  # Skip the fill value attribute\n",
    "                new_var.setncattr(attr_name, variable.getncattr(attr_name))\n",
    "\n",
    "# Create new variables for lat and lon\n",
    "lat_var = new_dataset.createVariable('lat', 'f4', ('x',))  # Latitude (lat)\n",
    "lon_var = new_dataset.createVariable('lon', 'f4', ('x',))  # Longitude (lon)\n",
    "\n",
    "# Assign the computed latitudes and longitudes to the new variables\n",
    "lat_var[:] = new_latitudes\n",
    "lon_var[:] = new_longitudes\n",
    "\n",
    "# Set attributes for the new variables (optional)\n",
    "lat_var.units = \"degrees_north\"\n",
    "lon_var.units = \"degrees_east\"\n",
    "\n",
    "# Close the new dataset\n",
    "new_dataset.close()\n",
    "\n",
    "# Close the original dataset\n",
    "dataset.close()\n",
    "\n",
    "print(f\"New file saved as: {new_file_path}\")"
   ]
  },
  {
   "cell_type": "code",
   "execution_count": 45,
   "id": "6a3e42cc-5780-4515-9476-89df8a41fbc9",
   "metadata": {},
   "outputs": [
    {
     "name": "stdout",
     "output_type": "stream",
     "text": [
      "[-45. -45. -45. ... 135. 135. 135.]\n"
     ]
    }
   ],
   "source": [
    "print(new_longitudes)"
   ]
  },
  {
   "cell_type": "code",
   "execution_count": null,
   "id": "dec46aa2-0ec7-4e44-8d7c-57c4fe3ae757",
   "metadata": {},
   "outputs": [],
   "source": []
  }
 ],
 "metadata": {
  "kernelspec": {
   "display_name": "Python [conda env:analysis3]",
   "language": "python",
   "name": "conda-env-analysis3-py"
  },
  "language_info": {
   "codemirror_mode": {
    "name": "ipython",
    "version": 3
   },
   "file_extension": ".py",
   "mimetype": "text/x-python",
   "name": "python",
   "nbconvert_exporter": "python",
   "pygments_lexer": "ipython3",
   "version": "3.10.14"
  }
 },
 "nbformat": 4,
 "nbformat_minor": 5
}
