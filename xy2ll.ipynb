{
 "cells": [
  {
   "cell_type": "code",
   "execution_count": 7,
   "id": "0b65081b-f984-4624-851d-206b2abc4477",
   "metadata": {},
   "outputs": [],
   "source": [
    "from math import pi\n",
    "from typing import Literal\n",
    "import netCDF4 as nc\n",
    "import numpy as np\n",
    "import xarray as xr\n",
    "from numpy.typing import ArrayLike\n",
    "\n",
    "\n",
    "def xy2ll(\n",
    "    x: ArrayLike,\n",
    "    y: ArrayLike,\n",
    "    sgn: Literal[1, -1],\n",
    "    *args,\n",
    ") -> tuple[ArrayLike, ArrayLike]:\n",
    "    \"\"\"Convert x y arrays to lat long arrays.\n",
    "\n",
    "    Converts Polar  Stereographic (X, Y) coordinates for the polar regions to\n",
    "    latitude and longitude Stereographic (X, Y) coordinates for the polar\n",
    "    regions.\n",
    "    Author: Michael P. Schodlok, December 2003 (map2xy.m)\n",
    "\n",
    "    Parameters:\n",
    "        - x: ArrayLike (float scalar or array)\n",
    "        - y: ArrayLike (float scalar or array)\n",
    "        - sgn (sign of latitude): integer (1 or -1) inidcating the hemisphere.\n",
    "              1 : north latitude (default is mer = 45 lat = 70).\n",
    "              -1 : south latitude (default is mer = 0  lat = 71).\n",
    "        - *args: optional args. First optional arg is `delta` and second is\n",
    "           `slat`. Review code for how these are used in practice.\n",
    "    Returns:\n",
    "        - (lat, lon)\n",
    "\n",
    "    Usage:\n",
    "        [lat, lon] = xy2ll(x, y, sgn)\n",
    "        [lat, lon] = xy2ll(x, y, sgn, central_meridian, standard_parallel)\n",
    "    \"\"\"\n",
    "    # Get central_meridian and standard_parallel depending on hemisphere\n",
    "    if len(args) == 2:\n",
    "        delta = args[0]\n",
    "        slat = args[1]\n",
    "    elif len(args) == 0:\n",
    "        if sgn == 1:\n",
    "            delta = 45.\n",
    "            slat = 70.\n",
    "            print(\n",
    "                '       '\n",
    "                ' xy2ll: creating coordinates in north polar stereographic'\n",
    "                ' (Std Latitude: 70degN Meridian: 45deg)'\n",
    "            )\n",
    "        elif sgn == -1:\n",
    "            delta = 0.\n",
    "            slat = 71.\n",
    "            print(\n",
    "                '       '\n",
    "                ' xy2ll: creating coordinates in south polar stereographic'\n",
    "                ' (Std Latitude: 71degS Meridian: 0deg)'\n",
    "            )\n",
    "        else:\n",
    "            raise ValueError('sgn should be either 1 or -1')\n",
    "    else:\n",
    "        raise Exception('bad usage: type \"help(xy2ll)\" for details')\n",
    "\n",
    "    # if x, y passed as lists, convert to np.arrays\n",
    "    if not np.issubdtype(type(x), np.ndarray):\n",
    "        x = np.array(x)\n",
    "    if not np.issubdtype(type(y), np.ndarray):\n",
    "        y = np.array(y)\n",
    "\n",
    "    # Conversion constant from degrees to radians\n",
    "    # cde = 57.29577951\n",
    "    # Radius of the earth in meters\n",
    "    re = 6378.273 * 10**3\n",
    "    # Eccentricity of the Hughes ellipsoid squared\n",
    "    ex2 = .006693883\n",
    "    # Eccentricity of the Hughes ellipsoid\n",
    "    ex = np.sqrt(ex2)\n",
    "\n",
    "    sl = slat * pi / 180.\n",
    "    rho = np.sqrt(x**2 + y**2)\n",
    "    cm = np.cos(sl) / np.sqrt(1.0 - ex2 * (np.sin(sl)**2))\n",
    "    T = np.tan((pi / 4.0) - (sl / 2.0)) / ((1.0 - ex * np.sin(sl)) / (1.0 + ex * np.sin(sl)))**(ex / 2.0)\n",
    "\n",
    "    if abs(slat - 90.) < 1.e-5:\n",
    "        T = rho * np.sqrt((1. + ex)**(1. + ex) * (1. - ex)**(1. - ex)) / 2. / re\n",
    "    else:\n",
    "        T = rho * T / (re * cm)\n",
    "\n",
    "    chi = (pi / 2.0) - 2.0 * np.arctan(T)\n",
    "    lat = chi + ((ex2 / 2.0) + (5.0 * ex2**2.0 / 24.0) + (ex2**3.0 / 12.0)) * np.sin(2 * chi) + ((7.0 * ex2**2.0 / 48.0) + (29.0 * ex2**3 / 240.0)) * np.sin(4.0 * chi) + (7.0 * ex2**3.0 / 120.0) * np.sin(6.0 * chi)\n",
    "\n",
    "    lat = sgn * lat\n",
    "    lon = np.arctan2(sgn * x, -sgn * y)\n",
    "    lon = sgn * lon\n",
    "\n",
    "    res1 = np.nonzero(rho <= 0.1)[0]\n",
    "    if len(res1) > 0:\n",
    "        lat[res1] = pi / 2. * sgn\n",
    "        lon[res1] = 0.0\n",
    "\n",
    "    lon = lon * 180. / pi\n",
    "    lat = lat * 180. / pi\n",
    "    lon = lon - delta\n",
    "\n",
    "    return lat, lon"
   ]
  },
  {
   "cell_type": "code",
   "execution_count": 8,
   "id": "c115e3ff-4cc7-4cbc-8e1a-72f33694e0db",
   "metadata": {},
   "outputs": [],
   "source": [
    "def convert_longitude(lon):\n",
    "    return lon - 360 if lon > 180 else lon"
   ]
  },
  {
   "cell_type": "code",
   "execution_count": 9,
   "id": "e4b952d5-5d0e-44bb-8254-55b8f04d3e12",
   "metadata": {},
   "outputs": [
    {
     "name": "stdout",
     "output_type": "stream",
     "text": [
      "        xy2ll: creating coordinates in south polar stereographic (Std Latitude: 71degS Meridian: 0deg)\n"
     ]
    },
    {
     "name": "stderr",
     "output_type": "stream",
     "text": [
      "/jobfs/137878425.gadi-pbs/ipykernel_3760681/3447187518.py:79: RuntimeWarning: invalid value encountered in sqrt\n",
      "  rho = np.sqrt(x**2 + y**2)\n"
     ]
    }
   ],
   "source": [
    "BedMachinev2 = xr.open_dataset('/g/data/tm70/ek4684/Bedmachine_data/BedMachineAntarctica_2020-07-15_v02.nc')\n",
    "# Extract geolocation values\n",
    "y = BedMachinev2.y.values  # Latitude array\n",
    "x = BedMachinev2.x.values  # Longitude array\n",
    "sgn = -1                   # Southern Hemisphere\n",
    "[Bedmachine_lat, Bedmachine_lon] = xy2ll(x, y, sgn)"
   ]
  },
  {
   "cell_type": "code",
   "execution_count": 10,
   "id": "1044e959-278a-4a76-8d4a-ee1ca49b6da3",
   "metadata": {},
   "outputs": [],
   "source": [
    "gebcofile = '/g/data/ik11/inputs/GEBCO_2024/GEBCO_2024.nc'\n",
    "gebcodata = nc.Dataset(gebcofile)\n",
    "gebcolat = gebcodata.variables['lat'][:]\n",
    "gebcolon = gebcodata.variables['lon'][:]"
   ]
  },
  {
   "cell_type": "code",
   "execution_count": 11,
   "id": "5cc7bc50-19ea-4d7e-97bb-32716b543453",
   "metadata": {},
   "outputs": [
    {
     "name": "stdout",
     "output_type": "stream",
     "text": [
      "[         nan -89.60558042          nan ...          nan -89.60558042\n",
      "          nan]\n"
     ]
    }
   ],
   "source": [
    "print(Bedmachine_lat)"
   ]
  },
  {
   "cell_type": "code",
   "execution_count": null,
   "id": "a2e01717-145e-4ec6-982c-662591606385",
   "metadata": {},
   "outputs": [],
   "source": []
  }
 ],
 "metadata": {
  "kernelspec": {
   "display_name": "Python (analysis3-24.04)",
   "language": "python",
   "name": "analysis3-24.04"
  },
  "language_info": {
   "codemirror_mode": {
    "name": "ipython",
    "version": 3
   },
   "file_extension": ".py",
   "mimetype": "text/x-python",
   "name": "python",
   "nbconvert_exporter": "python",
   "pygments_lexer": "ipython3",
   "version": "3.10.14"
  }
 },
 "nbformat": 4,
 "nbformat_minor": 5
}
