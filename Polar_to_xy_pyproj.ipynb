{
 "cells": [
  {
   "cell_type": "code",
   "execution_count": 1,
   "id": "f7dde370-30c5-4103-9f1c-3465d9288042",
   "metadata": {},
   "outputs": [],
   "source": [
    "# Use conda/analysis3-24.07 env\n",
    "import netCDF4 as nc\n",
    "import numpy as np"
   ]
  },
  {
   "cell_type": "code",
   "execution_count": 2,
   "id": "29e47823-30f8-4565-bf96-d476d3289dfb",
   "metadata": {},
   "outputs": [],
   "source": [
    "from pyproj import Transformer\n",
    "from pyproj import CRS\n",
    "ps_to_ll = Transformer.from_crs( \"EPSG:3031\",\"EPSG:4326\") "
   ]
  },
  {
   "cell_type": "code",
   "execution_count": 4,
   "id": "b1b5a5ad-33a0-4b68-942c-c930712506f5",
   "metadata": {},
   "outputs": [],
   "source": [
    "# Open the NetCDF file\n",
    "dataset = nc.Dataset('/g/data/tm70/ek4684/Bedmachine_data/BedMachineAntarctica_2020-07-15_v02.nc', 'r')\n",
    "# Extract the latitude and longitude arrays\n",
    "y = dataset.variables['y'][:]/100.0  # X array (Convert meters to KMs)\n",
    "x = dataset.variables['x'][:]/100.0  # Y array (Convert meters to KMs)\n",
    "# Create 2D coordinate grids\n",
    "X, Y = np.meshgrid(x, y)\n",
    "new_longitudes = np.zeros_like(X)\n",
    "new_latitudes = np.zeros_like(Y)"
   ]
  },
  {
   "cell_type": "code",
   "execution_count": null,
   "id": "af569758-bd1f-4581-a288-ed95b32604a9",
   "metadata": {},
   "outputs": [],
   "source": [
    "# Loop through all (i, j) combinations\n",
    "for i in range(x.shape[0]):\n",
    "    for j in range(x.shape[0]):\n",
    "        lon_result, lat_result = ps_to_ll.transform(x[i], y[j])\n",
    "        lon_result = (lon_result + 180) % 360 - 180  # Ensure longitude is in [-180, 180]\n",
    "        new_longitudes[i, j] = lon_result\n",
    "        new_latitudes[i, j] = lat_result"
   ]
  },
  {
   "cell_type": "code",
   "execution_count": null,
   "id": "f8ed7332-8b10-4534-b7c7-050a4cbda6e6",
   "metadata": {},
   "outputs": [],
   "source": [
    "# Define new file path\n",
    "new_file_path = '/g/data/tm70/ek4684/Bedmachine_data/BedMachineAntarctica_2020-07-15_v02_pyproj.nc'\n",
    "new_dataset = nc.Dataset(new_file_path, 'w', format='NETCDF4')\n",
    "\n",
    "# Copy dimensions from the original dataset to the new file\n",
    "for name, dimension in dataset.dimensions.items():\n",
    "    new_dataset.createDimension(name, len(dimension) if not dimension.isunlimited() else None)\n",
    "\n",
    "# Copy variables (excluding x and y) from the original dataset to the new file\n",
    "for name, variable in dataset.variables.items():\n",
    "    if name not in ['x', 'y']:  # Exclude 'x' and 'y', as we are replacing them with lat/lon\n",
    "        new_var = new_dataset.createVariable(name, variable.datatype, variable.dimensions)\n",
    "        new_var[:] = variable[:]\n",
    "        # Copy all attributes except the fill value\n",
    "        for attr_name in variable.ncattrs():\n",
    "            if attr_name != '_FillValue':\n",
    "                new_var.setncattr(attr_name, variable.getncattr(attr_name))\n",
    "\n",
    "# Create new lat and lon variables with the correct dimensions\n",
    "lat_var = new_dataset.createVariable('lat', 'f4', ('y', 'x'))  # Latitude (2D)\n",
    "lon_var = new_dataset.createVariable('lon', 'f4', ('y', 'x'))  # Longitude (2D)\n",
    "\n",
    "# Assign the computed latitudes and longitudes to the new variables\n",
    "lat_var[:, :] = new_latitudes  # Ensure latitudes are assigned correctly as 2D\n",
    "lon_var[:, :] = new_longitudes  # Ensure longitudes are assigned correctly as 2D\n",
    "\n",
    "# Set attributes for the new variables\n",
    "lat_var.units = \"degrees_north\"\n",
    "lon_var.units = \"degrees_east\"\n",
    "\n",
    "# Close the new dataset\n",
    "new_dataset.close()\n",
    "\n",
    "# Close the original dataset\n",
    "dataset.close()\n",
    "\n",
    "print(f\"New file saved as: {new_file_path}\")"
   ]
  }
 ],
 "metadata": {
  "kernelspec": {
   "display_name": "Python (analysis3-24.04)",
   "language": "python",
   "name": "analysis3-24.04"
  },
  "language_info": {
   "codemirror_mode": {
    "name": "ipython",
    "version": 3
   },
   "file_extension": ".py",
   "mimetype": "text/x-python",
   "name": "python",
   "nbconvert_exporter": "python",
   "pygments_lexer": "ipython3",
   "version": "3.10.14"
  }
 },
 "nbformat": 4,
 "nbformat_minor": 5
}
